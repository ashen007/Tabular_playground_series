{
 "cells": [
  {
   "cell_type": "markdown",
   "metadata": {
    "collapsed": true,
    "pycharm": {
     "name": "#%% md\n"
    }
   },
   "source": [
    "## import libraries and packages"
   ]
  },
  {
   "cell_type": "code",
   "execution_count": 2,
   "outputs": [],
   "source": [
    "import numpy as np\n",
    "import pandas as pd\n",
    "import seaborn as sns\n",
    "import missingno as mn\n",
    "from matplotlib import pyplot as plt\n",
    "from statsmodels.stats.outliers_influence import variance_inflation_factor"
   ],
   "metadata": {
    "collapsed": false,
    "pycharm": {
     "name": "#%%\n"
    }
   }
  },
  {
   "cell_type": "markdown",
   "source": [
    "## import data"
   ],
   "metadata": {
    "collapsed": false,
    "pycharm": {
     "name": "#%% md\n"
    }
   }
  },
  {
   "cell_type": "code",
   "execution_count": 3,
   "outputs": [],
   "source": [
    "train = pd.read_csv('../data/train.csv')\n",
    "test = pd.read_csv('../data/test.csv')"
   ],
   "metadata": {
    "collapsed": false,
    "pycharm": {
     "name": "#%%\n"
    }
   }
  },
  {
   "cell_type": "markdown",
   "source": [
    "## explore datasets"
   ],
   "metadata": {
    "collapsed": false,
    "pycharm": {
     "name": "#%% md\n"
    }
   }
  },
  {
   "cell_type": "code",
   "execution_count": 4,
   "outputs": [
    {
     "data": {
      "text/plain": "   id     cont1     cont2     cont3     cont4     cont5     cont6     cont7  \\\n0   1  0.670390  0.811300  0.643968  0.291791  0.284117  0.855953  0.890700   \n1   3  0.388053  0.621104  0.686102  0.501149  0.643790  0.449805  0.510824   \n2   4  0.834950  0.227436  0.301584  0.293408  0.606839  0.829175  0.506143   \n3   5  0.820708  0.160155  0.546887  0.726104  0.282444  0.785108  0.752758   \n4   8  0.935278  0.421235  0.303801  0.880214  0.665610  0.830131  0.487113   \n5   9  0.352623  0.258867  0.327373  0.802627  0.284219  0.296886  0.209743   \n6  11  0.259096  0.803934  0.580900  0.322884  0.984705  0.378247  0.432821   \n7  12  0.481610  0.805446  0.235836  0.365011  0.734725  0.404825  0.465061   \n8  13  0.667920  0.776422  0.255154  0.869598  0.678067  0.475274  0.493290   \n9  15  0.937751  0.236482  0.216445  0.476463  0.283642  0.456763  0.316416   \n\n      cont8     cont9    cont10    cont11    cont12    cont13    cont14  \\\n0  0.285542  0.558245  0.779418  0.921832  0.866772  0.878733  0.305411   \n1  0.580748  0.418335  0.432632  0.439872  0.434971  0.369957  0.369484   \n2  0.558771  0.587603  0.823312  0.567007  0.677708  0.882938  0.303047   \n3  0.823267  0.574466  0.580843  0.769594  0.818143  0.914281  0.279528   \n4  0.604157  0.874658  0.863427  0.983575  0.900464  0.935918  0.435772   \n5  0.273710  0.308018  0.235851  0.278760  0.251406  0.339135  0.293129   \n6  0.562059  0.290965  0.316543  0.219192  0.326977  0.458653  0.244300   \n7  0.578794  0.418807  0.451958  0.458720  0.586586  0.321026  0.834694   \n8  0.638779  0.491023  0.617451  0.413352  0.485558  0.474055  0.608374   \n9  0.785602  0.695845  0.370941  0.436835  0.826278  0.856748  0.418593   \n\n     target  \n0  7.243043  \n1  8.203331  \n2  7.776091  \n3  6.957716  \n4  7.951046  \n5  7.346874  \n6  8.616237  \n7  6.833895  \n8  8.540793  \n9  7.701053  ",
      "text/html": "<div>\n<style scoped>\n    .dataframe tbody tr th:only-of-type {\n        vertical-align: middle;\n    }\n\n    .dataframe tbody tr th {\n        vertical-align: top;\n    }\n\n    .dataframe thead th {\n        text-align: right;\n    }\n</style>\n<table border=\"1\" class=\"dataframe\">\n  <thead>\n    <tr style=\"text-align: right;\">\n      <th></th>\n      <th>id</th>\n      <th>cont1</th>\n      <th>cont2</th>\n      <th>cont3</th>\n      <th>cont4</th>\n      <th>cont5</th>\n      <th>cont6</th>\n      <th>cont7</th>\n      <th>cont8</th>\n      <th>cont9</th>\n      <th>cont10</th>\n      <th>cont11</th>\n      <th>cont12</th>\n      <th>cont13</th>\n      <th>cont14</th>\n      <th>target</th>\n    </tr>\n  </thead>\n  <tbody>\n    <tr>\n      <th>0</th>\n      <td>1</td>\n      <td>0.670390</td>\n      <td>0.811300</td>\n      <td>0.643968</td>\n      <td>0.291791</td>\n      <td>0.284117</td>\n      <td>0.855953</td>\n      <td>0.890700</td>\n      <td>0.285542</td>\n      <td>0.558245</td>\n      <td>0.779418</td>\n      <td>0.921832</td>\n      <td>0.866772</td>\n      <td>0.878733</td>\n      <td>0.305411</td>\n      <td>7.243043</td>\n    </tr>\n    <tr>\n      <th>1</th>\n      <td>3</td>\n      <td>0.388053</td>\n      <td>0.621104</td>\n      <td>0.686102</td>\n      <td>0.501149</td>\n      <td>0.643790</td>\n      <td>0.449805</td>\n      <td>0.510824</td>\n      <td>0.580748</td>\n      <td>0.418335</td>\n      <td>0.432632</td>\n      <td>0.439872</td>\n      <td>0.434971</td>\n      <td>0.369957</td>\n      <td>0.369484</td>\n      <td>8.203331</td>\n    </tr>\n    <tr>\n      <th>2</th>\n      <td>4</td>\n      <td>0.834950</td>\n      <td>0.227436</td>\n      <td>0.301584</td>\n      <td>0.293408</td>\n      <td>0.606839</td>\n      <td>0.829175</td>\n      <td>0.506143</td>\n      <td>0.558771</td>\n      <td>0.587603</td>\n      <td>0.823312</td>\n      <td>0.567007</td>\n      <td>0.677708</td>\n      <td>0.882938</td>\n      <td>0.303047</td>\n      <td>7.776091</td>\n    </tr>\n    <tr>\n      <th>3</th>\n      <td>5</td>\n      <td>0.820708</td>\n      <td>0.160155</td>\n      <td>0.546887</td>\n      <td>0.726104</td>\n      <td>0.282444</td>\n      <td>0.785108</td>\n      <td>0.752758</td>\n      <td>0.823267</td>\n      <td>0.574466</td>\n      <td>0.580843</td>\n      <td>0.769594</td>\n      <td>0.818143</td>\n      <td>0.914281</td>\n      <td>0.279528</td>\n      <td>6.957716</td>\n    </tr>\n    <tr>\n      <th>4</th>\n      <td>8</td>\n      <td>0.935278</td>\n      <td>0.421235</td>\n      <td>0.303801</td>\n      <td>0.880214</td>\n      <td>0.665610</td>\n      <td>0.830131</td>\n      <td>0.487113</td>\n      <td>0.604157</td>\n      <td>0.874658</td>\n      <td>0.863427</td>\n      <td>0.983575</td>\n      <td>0.900464</td>\n      <td>0.935918</td>\n      <td>0.435772</td>\n      <td>7.951046</td>\n    </tr>\n    <tr>\n      <th>5</th>\n      <td>9</td>\n      <td>0.352623</td>\n      <td>0.258867</td>\n      <td>0.327373</td>\n      <td>0.802627</td>\n      <td>0.284219</td>\n      <td>0.296886</td>\n      <td>0.209743</td>\n      <td>0.273710</td>\n      <td>0.308018</td>\n      <td>0.235851</td>\n      <td>0.278760</td>\n      <td>0.251406</td>\n      <td>0.339135</td>\n      <td>0.293129</td>\n      <td>7.346874</td>\n    </tr>\n    <tr>\n      <th>6</th>\n      <td>11</td>\n      <td>0.259096</td>\n      <td>0.803934</td>\n      <td>0.580900</td>\n      <td>0.322884</td>\n      <td>0.984705</td>\n      <td>0.378247</td>\n      <td>0.432821</td>\n      <td>0.562059</td>\n      <td>0.290965</td>\n      <td>0.316543</td>\n      <td>0.219192</td>\n      <td>0.326977</td>\n      <td>0.458653</td>\n      <td>0.244300</td>\n      <td>8.616237</td>\n    </tr>\n    <tr>\n      <th>7</th>\n      <td>12</td>\n      <td>0.481610</td>\n      <td>0.805446</td>\n      <td>0.235836</td>\n      <td>0.365011</td>\n      <td>0.734725</td>\n      <td>0.404825</td>\n      <td>0.465061</td>\n      <td>0.578794</td>\n      <td>0.418807</td>\n      <td>0.451958</td>\n      <td>0.458720</td>\n      <td>0.586586</td>\n      <td>0.321026</td>\n      <td>0.834694</td>\n      <td>6.833895</td>\n    </tr>\n    <tr>\n      <th>8</th>\n      <td>13</td>\n      <td>0.667920</td>\n      <td>0.776422</td>\n      <td>0.255154</td>\n      <td>0.869598</td>\n      <td>0.678067</td>\n      <td>0.475274</td>\n      <td>0.493290</td>\n      <td>0.638779</td>\n      <td>0.491023</td>\n      <td>0.617451</td>\n      <td>0.413352</td>\n      <td>0.485558</td>\n      <td>0.474055</td>\n      <td>0.608374</td>\n      <td>8.540793</td>\n    </tr>\n    <tr>\n      <th>9</th>\n      <td>15</td>\n      <td>0.937751</td>\n      <td>0.236482</td>\n      <td>0.216445</td>\n      <td>0.476463</td>\n      <td>0.283642</td>\n      <td>0.456763</td>\n      <td>0.316416</td>\n      <td>0.785602</td>\n      <td>0.695845</td>\n      <td>0.370941</td>\n      <td>0.436835</td>\n      <td>0.826278</td>\n      <td>0.856748</td>\n      <td>0.418593</td>\n      <td>7.701053</td>\n    </tr>\n  </tbody>\n</table>\n</div>"
     },
     "execution_count": 4,
     "metadata": {},
     "output_type": "execute_result"
    }
   ],
   "source": [
    "# training set\n",
    "train.head(10)"
   ],
   "metadata": {
    "collapsed": false,
    "pycharm": {
     "name": "#%%\n"
    }
   }
  },
  {
   "cell_type": "code",
   "execution_count": 6,
   "outputs": [
    {
     "data": {
      "text/plain": "            id     cont1     cont2     cont3     cont4     cont5     cont6  \\\n299995  499995  0.216974  0.735265  0.648648  0.255387  0.616353  0.345197   \n299996  499996  0.545799  0.165139  0.220966  0.190053  0.359362  0.386336   \n299997  499997  0.284401  0.841542  0.957585  0.340383  0.396279  0.330376   \n299998  499998  0.481900  0.622346  0.540032  0.823118  0.283066  0.434283   \n299999  499999  0.486632  0.230090  0.543587  0.263878  0.279118  0.636295   \n\n           cont7     cont8     cont9    cont10    cont11    cont12    cont13  \\\n299995  0.295718  0.304357  0.314351  0.860504  0.315397  0.247682  0.486542   \n299996  0.365767  0.344217  0.466446  0.454581  0.360251  0.360755  0.292535   \n299997  0.525687  0.260039  0.378174  0.526925  0.491735  0.516629  0.173521   \n299998  0.174342  0.710843  0.358690  0.648272  0.984647  1.001110  0.063956   \n299999  0.472391  0.339654  0.444787  0.636765  0.782196  0.559692  0.762954   \n\n          cont14    target  \n299995  0.288750  7.385215  \n299996  0.619984  7.242617  \n299997  0.714552  9.592487  \n299998  0.377693  8.207951  \n299999  0.215539  8.890285  ",
      "text/html": "<div>\n<style scoped>\n    .dataframe tbody tr th:only-of-type {\n        vertical-align: middle;\n    }\n\n    .dataframe tbody tr th {\n        vertical-align: top;\n    }\n\n    .dataframe thead th {\n        text-align: right;\n    }\n</style>\n<table border=\"1\" class=\"dataframe\">\n  <thead>\n    <tr style=\"text-align: right;\">\n      <th></th>\n      <th>id</th>\n      <th>cont1</th>\n      <th>cont2</th>\n      <th>cont3</th>\n      <th>cont4</th>\n      <th>cont5</th>\n      <th>cont6</th>\n      <th>cont7</th>\n      <th>cont8</th>\n      <th>cont9</th>\n      <th>cont10</th>\n      <th>cont11</th>\n      <th>cont12</th>\n      <th>cont13</th>\n      <th>cont14</th>\n      <th>target</th>\n    </tr>\n  </thead>\n  <tbody>\n    <tr>\n      <th>299995</th>\n      <td>499995</td>\n      <td>0.216974</td>\n      <td>0.735265</td>\n      <td>0.648648</td>\n      <td>0.255387</td>\n      <td>0.616353</td>\n      <td>0.345197</td>\n      <td>0.295718</td>\n      <td>0.304357</td>\n      <td>0.314351</td>\n      <td>0.860504</td>\n      <td>0.315397</td>\n      <td>0.247682</td>\n      <td>0.486542</td>\n      <td>0.288750</td>\n      <td>7.385215</td>\n    </tr>\n    <tr>\n      <th>299996</th>\n      <td>499996</td>\n      <td>0.545799</td>\n      <td>0.165139</td>\n      <td>0.220966</td>\n      <td>0.190053</td>\n      <td>0.359362</td>\n      <td>0.386336</td>\n      <td>0.365767</td>\n      <td>0.344217</td>\n      <td>0.466446</td>\n      <td>0.454581</td>\n      <td>0.360251</td>\n      <td>0.360755</td>\n      <td>0.292535</td>\n      <td>0.619984</td>\n      <td>7.242617</td>\n    </tr>\n    <tr>\n      <th>299997</th>\n      <td>499997</td>\n      <td>0.284401</td>\n      <td>0.841542</td>\n      <td>0.957585</td>\n      <td>0.340383</td>\n      <td>0.396279</td>\n      <td>0.330376</td>\n      <td>0.525687</td>\n      <td>0.260039</td>\n      <td>0.378174</td>\n      <td>0.526925</td>\n      <td>0.491735</td>\n      <td>0.516629</td>\n      <td>0.173521</td>\n      <td>0.714552</td>\n      <td>9.592487</td>\n    </tr>\n    <tr>\n      <th>299998</th>\n      <td>499998</td>\n      <td>0.481900</td>\n      <td>0.622346</td>\n      <td>0.540032</td>\n      <td>0.823118</td>\n      <td>0.283066</td>\n      <td>0.434283</td>\n      <td>0.174342</td>\n      <td>0.710843</td>\n      <td>0.358690</td>\n      <td>0.648272</td>\n      <td>0.984647</td>\n      <td>1.001110</td>\n      <td>0.063956</td>\n      <td>0.377693</td>\n      <td>8.207951</td>\n    </tr>\n    <tr>\n      <th>299999</th>\n      <td>499999</td>\n      <td>0.486632</td>\n      <td>0.230090</td>\n      <td>0.543587</td>\n      <td>0.263878</td>\n      <td>0.279118</td>\n      <td>0.636295</td>\n      <td>0.472391</td>\n      <td>0.339654</td>\n      <td>0.444787</td>\n      <td>0.636765</td>\n      <td>0.782196</td>\n      <td>0.559692</td>\n      <td>0.762954</td>\n      <td>0.215539</td>\n      <td>8.890285</td>\n    </tr>\n  </tbody>\n</table>\n</div>"
     },
     "execution_count": 6,
     "metadata": {},
     "output_type": "execute_result"
    }
   ],
   "source": [
    "train.tail(5)"
   ],
   "metadata": {
    "collapsed": false,
    "pycharm": {
     "name": "#%%\n"
    }
   }
  },
  {
   "cell_type": "code",
   "execution_count": 5,
   "outputs": [
    {
     "data": {
      "text/plain": "   id     cont1     cont2     cont3     cont4     cont5     cont6     cont7  \\\n0   0  0.353600  0.738780  0.600939  0.293377  0.285691  0.458006  0.620704   \n1   2  0.907222  0.189756  0.215531  0.869915  0.301333  0.528958  0.390351   \n2   6  0.179287  0.355353  0.623972  0.437812  0.282476  0.320826  0.386789   \n3   7  0.359385  0.181049  0.551368  0.206386  0.280763  0.482076  0.506677   \n4  10  0.335791  0.682607  0.676481  0.219465  0.282861  0.581721  0.748639   \n5  14  0.256414  0.621835  0.959441  0.913052  0.387511  0.314620  0.322014   \n6  16  0.485888  0.359113  0.613006  0.257908  0.283429  0.646103  0.963301   \n7  17  0.673931  0.734818  0.361756  0.567235  0.284732  0.453174  0.515395   \n8  18  0.926054  0.619843  0.356893  0.868551  0.284436  0.865728  0.456673   \n9  19  0.497196  0.619562  0.623283  0.323464  0.503100  0.457458  0.447466   \n\n      cont8     cont9    cont10    cont11    cont12    cont13    cont14  \n0  0.422249  0.369203  0.435727  0.550540  0.699134  0.286864  0.364515  \n1  0.521112  0.794779  0.798580  0.446475  0.449037  0.916964  0.513002  \n2  0.776422  0.222268  0.229102  0.211913  0.222651  0.327164  0.827941  \n3  0.362793  0.379737  0.345686  0.445276  0.518485  0.299028  0.598166  \n4  0.350158  0.448915  0.506878  0.817721  0.805895  0.790591  0.249275  \n5  0.614673  0.292548  0.899578  0.278104  0.274086  0.418178  0.715106  \n6  0.311508  0.581260  0.638479  0.840254  0.854393  0.893814  0.269365  \n7  0.789382  0.714804  0.265037  0.323776  0.507847  0.539327  0.849788  \n8  0.729383  0.739350  0.867766  0.906833  0.963105  0.901933  0.826835  \n9  0.612733  0.409860  0.438677  0.330754  0.348405  0.355242  0.259408  ",
      "text/html": "<div>\n<style scoped>\n    .dataframe tbody tr th:only-of-type {\n        vertical-align: middle;\n    }\n\n    .dataframe tbody tr th {\n        vertical-align: top;\n    }\n\n    .dataframe thead th {\n        text-align: right;\n    }\n</style>\n<table border=\"1\" class=\"dataframe\">\n  <thead>\n    <tr style=\"text-align: right;\">\n      <th></th>\n      <th>id</th>\n      <th>cont1</th>\n      <th>cont2</th>\n      <th>cont3</th>\n      <th>cont4</th>\n      <th>cont5</th>\n      <th>cont6</th>\n      <th>cont7</th>\n      <th>cont8</th>\n      <th>cont9</th>\n      <th>cont10</th>\n      <th>cont11</th>\n      <th>cont12</th>\n      <th>cont13</th>\n      <th>cont14</th>\n    </tr>\n  </thead>\n  <tbody>\n    <tr>\n      <th>0</th>\n      <td>0</td>\n      <td>0.353600</td>\n      <td>0.738780</td>\n      <td>0.600939</td>\n      <td>0.293377</td>\n      <td>0.285691</td>\n      <td>0.458006</td>\n      <td>0.620704</td>\n      <td>0.422249</td>\n      <td>0.369203</td>\n      <td>0.435727</td>\n      <td>0.550540</td>\n      <td>0.699134</td>\n      <td>0.286864</td>\n      <td>0.364515</td>\n    </tr>\n    <tr>\n      <th>1</th>\n      <td>2</td>\n      <td>0.907222</td>\n      <td>0.189756</td>\n      <td>0.215531</td>\n      <td>0.869915</td>\n      <td>0.301333</td>\n      <td>0.528958</td>\n      <td>0.390351</td>\n      <td>0.521112</td>\n      <td>0.794779</td>\n      <td>0.798580</td>\n      <td>0.446475</td>\n      <td>0.449037</td>\n      <td>0.916964</td>\n      <td>0.513002</td>\n    </tr>\n    <tr>\n      <th>2</th>\n      <td>6</td>\n      <td>0.179287</td>\n      <td>0.355353</td>\n      <td>0.623972</td>\n      <td>0.437812</td>\n      <td>0.282476</td>\n      <td>0.320826</td>\n      <td>0.386789</td>\n      <td>0.776422</td>\n      <td>0.222268</td>\n      <td>0.229102</td>\n      <td>0.211913</td>\n      <td>0.222651</td>\n      <td>0.327164</td>\n      <td>0.827941</td>\n    </tr>\n    <tr>\n      <th>3</th>\n      <td>7</td>\n      <td>0.359385</td>\n      <td>0.181049</td>\n      <td>0.551368</td>\n      <td>0.206386</td>\n      <td>0.280763</td>\n      <td>0.482076</td>\n      <td>0.506677</td>\n      <td>0.362793</td>\n      <td>0.379737</td>\n      <td>0.345686</td>\n      <td>0.445276</td>\n      <td>0.518485</td>\n      <td>0.299028</td>\n      <td>0.598166</td>\n    </tr>\n    <tr>\n      <th>4</th>\n      <td>10</td>\n      <td>0.335791</td>\n      <td>0.682607</td>\n      <td>0.676481</td>\n      <td>0.219465</td>\n      <td>0.282861</td>\n      <td>0.581721</td>\n      <td>0.748639</td>\n      <td>0.350158</td>\n      <td>0.448915</td>\n      <td>0.506878</td>\n      <td>0.817721</td>\n      <td>0.805895</td>\n      <td>0.790591</td>\n      <td>0.249275</td>\n    </tr>\n    <tr>\n      <th>5</th>\n      <td>14</td>\n      <td>0.256414</td>\n      <td>0.621835</td>\n      <td>0.959441</td>\n      <td>0.913052</td>\n      <td>0.387511</td>\n      <td>0.314620</td>\n      <td>0.322014</td>\n      <td>0.614673</td>\n      <td>0.292548</td>\n      <td>0.899578</td>\n      <td>0.278104</td>\n      <td>0.274086</td>\n      <td>0.418178</td>\n      <td>0.715106</td>\n    </tr>\n    <tr>\n      <th>6</th>\n      <td>16</td>\n      <td>0.485888</td>\n      <td>0.359113</td>\n      <td>0.613006</td>\n      <td>0.257908</td>\n      <td>0.283429</td>\n      <td>0.646103</td>\n      <td>0.963301</td>\n      <td>0.311508</td>\n      <td>0.581260</td>\n      <td>0.638479</td>\n      <td>0.840254</td>\n      <td>0.854393</td>\n      <td>0.893814</td>\n      <td>0.269365</td>\n    </tr>\n    <tr>\n      <th>7</th>\n      <td>17</td>\n      <td>0.673931</td>\n      <td>0.734818</td>\n      <td>0.361756</td>\n      <td>0.567235</td>\n      <td>0.284732</td>\n      <td>0.453174</td>\n      <td>0.515395</td>\n      <td>0.789382</td>\n      <td>0.714804</td>\n      <td>0.265037</td>\n      <td>0.323776</td>\n      <td>0.507847</td>\n      <td>0.539327</td>\n      <td>0.849788</td>\n    </tr>\n    <tr>\n      <th>8</th>\n      <td>18</td>\n      <td>0.926054</td>\n      <td>0.619843</td>\n      <td>0.356893</td>\n      <td>0.868551</td>\n      <td>0.284436</td>\n      <td>0.865728</td>\n      <td>0.456673</td>\n      <td>0.729383</td>\n      <td>0.739350</td>\n      <td>0.867766</td>\n      <td>0.906833</td>\n      <td>0.963105</td>\n      <td>0.901933</td>\n      <td>0.826835</td>\n    </tr>\n    <tr>\n      <th>9</th>\n      <td>19</td>\n      <td>0.497196</td>\n      <td>0.619562</td>\n      <td>0.623283</td>\n      <td>0.323464</td>\n      <td>0.503100</td>\n      <td>0.457458</td>\n      <td>0.447466</td>\n      <td>0.612733</td>\n      <td>0.409860</td>\n      <td>0.438677</td>\n      <td>0.330754</td>\n      <td>0.348405</td>\n      <td>0.355242</td>\n      <td>0.259408</td>\n    </tr>\n  </tbody>\n</table>\n</div>"
     },
     "execution_count": 5,
     "metadata": {},
     "output_type": "execute_result"
    }
   ],
   "source": [
    "# test set\n",
    "test.head(10)"
   ],
   "metadata": {
    "collapsed": false,
    "pycharm": {
     "name": "#%%\n"
    }
   }
  },
  {
   "cell_type": "code",
   "execution_count": 7,
   "outputs": [
    {
     "data": {
      "text/plain": "            id     cont1     cont2     cont3     cont4     cont5     cont6  \\\n199995  499984  0.353856  0.677578  0.550852  0.869612  0.957635  0.255054   \n199996  499985  0.243209  0.135627  0.218393  0.792798  0.547639  0.433520   \n199997  499987  0.506973  0.683893  0.533434  0.192957  0.314381  0.358604   \n199998  499988  0.347870  0.553112  0.495284  0.861500  0.816914  0.298478   \n199999  499990  0.688188  0.358328  0.644511  0.766354  0.747591  0.727329   \n\n           cont7     cont8     cont9    cont10    cont11    cont12    cont13  \\\n199995  0.289138  0.635979  0.271399  0.282455  0.217169  0.219088  0.373261   \n199996  0.549540  0.650107  0.453787  0.459689  0.450424  0.511176  0.318334   \n199997  0.554455  0.267105  0.396101  0.445390  0.382656  0.397978  0.381235   \n199998  0.275964  0.265841  0.334250  0.252635  0.213589  0.285223  0.336772   \n199999  0.468329  0.576711  0.453124  0.381600  0.299126  0.499627  0.691078   \n\n          cont14  \n199995  0.272479  \n199996  0.395747  \n199997  0.369464  \n199998  0.388505  \n199999  0.668109  ",
      "text/html": "<div>\n<style scoped>\n    .dataframe tbody tr th:only-of-type {\n        vertical-align: middle;\n    }\n\n    .dataframe tbody tr th {\n        vertical-align: top;\n    }\n\n    .dataframe thead th {\n        text-align: right;\n    }\n</style>\n<table border=\"1\" class=\"dataframe\">\n  <thead>\n    <tr style=\"text-align: right;\">\n      <th></th>\n      <th>id</th>\n      <th>cont1</th>\n      <th>cont2</th>\n      <th>cont3</th>\n      <th>cont4</th>\n      <th>cont5</th>\n      <th>cont6</th>\n      <th>cont7</th>\n      <th>cont8</th>\n      <th>cont9</th>\n      <th>cont10</th>\n      <th>cont11</th>\n      <th>cont12</th>\n      <th>cont13</th>\n      <th>cont14</th>\n    </tr>\n  </thead>\n  <tbody>\n    <tr>\n      <th>199995</th>\n      <td>499984</td>\n      <td>0.353856</td>\n      <td>0.677578</td>\n      <td>0.550852</td>\n      <td>0.869612</td>\n      <td>0.957635</td>\n      <td>0.255054</td>\n      <td>0.289138</td>\n      <td>0.635979</td>\n      <td>0.271399</td>\n      <td>0.282455</td>\n      <td>0.217169</td>\n      <td>0.219088</td>\n      <td>0.373261</td>\n      <td>0.272479</td>\n    </tr>\n    <tr>\n      <th>199996</th>\n      <td>499985</td>\n      <td>0.243209</td>\n      <td>0.135627</td>\n      <td>0.218393</td>\n      <td>0.792798</td>\n      <td>0.547639</td>\n      <td>0.433520</td>\n      <td>0.549540</td>\n      <td>0.650107</td>\n      <td>0.453787</td>\n      <td>0.459689</td>\n      <td>0.450424</td>\n      <td>0.511176</td>\n      <td>0.318334</td>\n      <td>0.395747</td>\n    </tr>\n    <tr>\n      <th>199997</th>\n      <td>499987</td>\n      <td>0.506973</td>\n      <td>0.683893</td>\n      <td>0.533434</td>\n      <td>0.192957</td>\n      <td>0.314381</td>\n      <td>0.358604</td>\n      <td>0.554455</td>\n      <td>0.267105</td>\n      <td>0.396101</td>\n      <td>0.445390</td>\n      <td>0.382656</td>\n      <td>0.397978</td>\n      <td>0.381235</td>\n      <td>0.369464</td>\n    </tr>\n    <tr>\n      <th>199998</th>\n      <td>499988</td>\n      <td>0.347870</td>\n      <td>0.553112</td>\n      <td>0.495284</td>\n      <td>0.861500</td>\n      <td>0.816914</td>\n      <td>0.298478</td>\n      <td>0.275964</td>\n      <td>0.265841</td>\n      <td>0.334250</td>\n      <td>0.252635</td>\n      <td>0.213589</td>\n      <td>0.285223</td>\n      <td>0.336772</td>\n      <td>0.388505</td>\n    </tr>\n    <tr>\n      <th>199999</th>\n      <td>499990</td>\n      <td>0.688188</td>\n      <td>0.358328</td>\n      <td>0.644511</td>\n      <td>0.766354</td>\n      <td>0.747591</td>\n      <td>0.727329</td>\n      <td>0.468329</td>\n      <td>0.576711</td>\n      <td>0.453124</td>\n      <td>0.381600</td>\n      <td>0.299126</td>\n      <td>0.499627</td>\n      <td>0.691078</td>\n      <td>0.668109</td>\n    </tr>\n  </tbody>\n</table>\n</div>"
     },
     "execution_count": 7,
     "metadata": {},
     "output_type": "execute_result"
    }
   ],
   "source": [
    "test.tail(5)"
   ],
   "metadata": {
    "collapsed": false,
    "pycharm": {
     "name": "#%%\n"
    }
   }
  },
  {
   "cell_type": "markdown",
   "source": [
    "## missing values\n",
    "checking data sets for any missing values"
   ],
   "metadata": {
    "collapsed": false,
    "pycharm": {
     "name": "#%% md\n"
    }
   }
  },
  {
   "cell_type": "code",
   "execution_count": 8,
   "outputs": [
    {
     "data": {
      "text/plain": "id        0\ncont1     0\ncont2     0\ncont3     0\ncont4     0\ncont5     0\ncont6     0\ncont7     0\ncont8     0\ncont9     0\ncont10    0\ncont11    0\ncont12    0\ncont13    0\ncont14    0\ntarget    0\ndtype: int64"
     },
     "execution_count": 8,
     "metadata": {},
     "output_type": "execute_result"
    }
   ],
   "source": [
    "# train set\n",
    "train.isna().sum()"
   ],
   "metadata": {
    "collapsed": false,
    "pycharm": {
     "name": "#%%\n"
    }
   }
  },
  {
   "cell_type": "code",
   "execution_count": 9,
   "outputs": [
    {
     "data": {
      "text/plain": "id        0\ncont1     0\ncont2     0\ncont3     0\ncont4     0\ncont5     0\ncont6     0\ncont7     0\ncont8     0\ncont9     0\ncont10    0\ncont11    0\ncont12    0\ncont13    0\ncont14    0\ndtype: int64"
     },
     "execution_count": 9,
     "metadata": {},
     "output_type": "execute_result"
    }
   ],
   "source": [
    "# test set\n",
    "test.isna().sum()"
   ],
   "metadata": {
    "collapsed": false,
    "pycharm": {
     "name": "#%%\n"
    }
   }
  },
  {
   "cell_type": "markdown",
   "source": [
    "## visualize nullity of random sample of data"
   ],
   "metadata": {
    "collapsed": false,
    "pycharm": {
     "name": "#%% md\n"
    }
   }
  },
  {
   "cell_type": "code",
   "execution_count": 10,
   "outputs": [
    {
     "data": {
      "text/plain": "<Figure size 1800x1800 with 0 Axes>"
     },
     "metadata": {},
     "output_type": "display_data"
    },
    {
     "data": {
      "text/plain": "<Figure size 1800x720 with 2 Axes>",
      "image/png": "[encoded data removed]"
     },
     "metadata": {
      "needs_background": "light"
     },
     "output_type": "display_data"
    }
   ],
   "source": [
    "plt.figure(figsize=[6,6],dpi=300)\n",
    "mn.matrix(train.sample(1000))\n",
    "plt.show()"
   ],
   "metadata": {
    "collapsed": false,
    "pycharm": {
     "name": "#%%\n"
    }
   }
  },
  {
   "cell_type": "code",
   "execution_count": 11,
   "outputs": [
    {
     "data": {
      "text/plain": "<Figure size 1800x1800 with 0 Axes>"
     },
     "metadata": {},
     "output_type": "display_data"
    },
    {
     "data": {
      "text/plain": "<Figure size 1800x720 with 2 Axes>",
      "image/png": "[encoded data removed]"
     },
     "metadata": {
      "needs_background": "light"
     },
     "output_type": "display_data"
    }
   ],
   "source": [
    "plt.figure(figsize=[6,6],dpi=300)\n",
    "mn.matrix(test.sample(1000))\n",
    "plt.show()"
   ],
   "metadata": {
    "collapsed": false,
    "pycharm": {
     "name": "#%%\n"
    }
   }
  },
  {
   "cell_type": "markdown",
   "source": [
    "## feature analysis"
   ],
   "metadata": {
    "collapsed": false,
    "pycharm": {
     "name": "#%% md\n"
    }
   }
  },
  {
   "cell_type": "code",
   "execution_count": 13,
   "outputs": [
    {
     "name": "stdout",
     "output_type": "stream",
     "text": [
      "numeric features:Index(['id', 'cont1', 'cont2', 'cont3', 'cont4', 'cont5', 'cont6', 'cont7',\n",
      "       'cont8', 'cont9', 'cont10', 'cont11', 'cont12', 'cont13', 'cont14',\n",
      "       'target'],\n",
      "      dtype='object'), categorical features: Index([], dtype='object')\n"
     ]
    }
   ],
   "source": [
    "# data types of features\n",
    "numerical_features = train.select_dtypes(include=np.number)\n",
    "categorical_features = train.select_dtypes(include=np.object)\n",
    "\n",
    "print(f'numeric features:{numerical_features.columns}, categorical features: {categorical_features.columns}')"
   ],
   "metadata": {
    "collapsed": false,
    "pycharm": {
     "name": "#%%\n"
    }
   }
  },
  {
   "cell_type": "code",
   "execution_count": 15,
   "outputs": [
    {
     "name": "stdout",
     "output_type": "stream",
     "text": [
      "<class 'pandas.core.frame.DataFrame'>\n",
      "RangeIndex: 300000 entries, 0 to 299999\n",
      "Data columns (total 16 columns):\n",
      " #   Column  Non-Null Count   Dtype  \n",
      "---  ------  --------------   -----  \n",
      " 0   id      300000 non-null  int64  \n",
      " 1   cont1   300000 non-null  float64\n",
      " 2   cont2   300000 non-null  float64\n",
      " 3   cont3   300000 non-null  float64\n",
      " 4   cont4   300000 non-null  float64\n",
      " 5   cont5   300000 non-null  float64\n",
      " 6   cont6   300000 non-null  float64\n",
      " 7   cont7   300000 non-null  float64\n",
      " 8   cont8   300000 non-null  float64\n",
      " 9   cont9   300000 non-null  float64\n",
      " 10  cont10  300000 non-null  float64\n",
      " 11  cont11  300000 non-null  float64\n",
      " 12  cont12  300000 non-null  float64\n",
      " 13  cont13  300000 non-null  float64\n",
      " 14  cont14  300000 non-null  float64\n",
      " 15  target  300000 non-null  float64\n",
      "dtypes: float64(15), int64(1)\n",
      "memory usage: 36.6 MB\n"
     ]
    }
   ],
   "source": [
    "# information about features\n",
    "train.info()"
   ],
   "metadata": {
    "collapsed": false,
    "pycharm": {
     "name": "#%%\n"
    }
   }
  },
  {
   "cell_type": "code",
   "execution_count": 16,
   "outputs": [
    {
     "name": "stdout",
     "output_type": "stream",
     "text": [
      "<class 'pandas.core.frame.DataFrame'>\n",
      "RangeIndex: 200000 entries, 0 to 199999\n",
      "Data columns (total 15 columns):\n",
      " #   Column  Non-Null Count   Dtype  \n",
      "---  ------  --------------   -----  \n",
      " 0   id      200000 non-null  int64  \n",
      " 1   cont1   200000 non-null  float64\n",
      " 2   cont2   200000 non-null  float64\n",
      " 3   cont3   200000 non-null  float64\n",
      " 4   cont4   200000 non-null  float64\n",
      " 5   cont5   200000 non-null  float64\n",
      " 6   cont6   200000 non-null  float64\n",
      " 7   cont7   200000 non-null  float64\n",
      " 8   cont8   200000 non-null  float64\n",
      " 9   cont9   200000 non-null  float64\n",
      " 10  cont10  200000 non-null  float64\n",
      " 11  cont11  200000 non-null  float64\n",
      " 12  cont12  200000 non-null  float64\n",
      " 13  cont13  200000 non-null  float64\n",
      " 14  cont14  200000 non-null  float64\n",
      "dtypes: float64(14), int64(1)\n",
      "memory usage: 22.9 MB\n"
     ]
    }
   ],
   "source": [
    "test.info()"
   ],
   "metadata": {
    "collapsed": false,
    "pycharm": {
     "name": "#%%\n"
    }
   }
  },
  {
   "cell_type": "code",
   "execution_count": 17,
   "outputs": [],
   "source": [
    "# id feature is not important, so drop it\n",
    "train.drop('id',axis=1,inplace=True)\n",
    "test.drop('id',axis=1,inplace=True)"
   ],
   "metadata": {
    "collapsed": false,
    "pycharm": {
     "name": "#%%\n"
    }
   }
  },
  {
   "cell_type": "markdown",
   "source": [
    "## uni-variant analysis on each feature to get know about distribution"
   ],
   "metadata": {
    "collapsed": false,
    "pycharm": {
     "name": "#%% md\n"
    }
   }
  },
  {
   "cell_type": "code",
   "execution_count": null,
   "outputs": [],
   "source": [],
   "metadata": {
    "collapsed": false,
    "pycharm": {
     "name": "#%%\n"
    }
   }
  }
 ],
 "metadata": {
  "kernelspec": {
   "display_name": "Python 3",
   "language": "python",
   "name": "python3"
  },
  "language_info": {
   "codemirror_mode": {
    "name": "ipython",
    "version": 2
   },
   "file_extension": ".py",
   "mimetype": "text/x-python",
   "name": "python",
   "nbconvert_exporter": "python",
   "pygments_lexer": "ipython2",
   "version": "2.7.6"
  }
 },
 "nbformat": 4,
 "nbformat_minor": 0
}